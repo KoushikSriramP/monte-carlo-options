{
 "cells": [
  {
   "cell_type": "markdown",
   "metadata": {},
   "source": [
    "# 3. Write a Function for calculating the value of a European Option on Nifty using Monte Carlo Simulation for an expiry after a month. Compare it with the current market price and tell your decision, if it shall be bought or sold."
   ]
  },
  {
   "cell_type": "code",
   "execution_count": 707,
   "metadata": {},
   "outputs": [],
   "source": [
    "import datetime as dt\n",
    "import numpy as np\n",
    "import pandas as pd\n",
    "from random import gauss\n",
    "from math import sqrt, exp"
   ]
  },
  {
   "cell_type": "code",
   "execution_count": 708,
   "metadata": {},
   "outputs": [],
   "source": [
    "def generate_asset_price(stockPrice, impliedVolatility, timeToMaturity, riskFreeRate):\n",
    "    return stockPrice * exp((riskFreeRate - 0.5 * impliedVolatility ** 2) * timeToMaturity + impliedVolatility * sqrt(timeToMaturity) * gauss(0, 1)) "
   ]
  },
  {
   "cell_type": "code",
   "execution_count": 709,
   "metadata": {},
   "outputs": [],
   "source": [
    "def call_Payoff(stockPrice, strikePrice):\n",
    "    return max(stockPrice - strikePrice, 0)"
   ]
  },
  {
   "cell_type": "code",
   "execution_count": 710,
   "metadata": {},
   "outputs": [],
   "source": [
    "def put_Payoff(stockPrice, strikePrice):\n",
    "    return max(strikePrice - stockPrice, 0)"
   ]
  },
  {
   "cell_type": "code",
   "execution_count": 711,
   "metadata": {},
   "outputs": [],
   "source": [
    "def get_Values(stockPrice, strikePrice, impliedVolatility, timeToMaturity, riskFreeRate=0.1):\n",
    "    return stockPrice, strikePrice, impliedVolatility, timeToMaturity, riskFreeRate"
   ]
  },
  {
   "cell_type": "markdown",
   "metadata": {},
   "source": [
    "## Calculating Nifty Call Option Price on 28-June-2024\n",
    "* Strike                   : 24,000 \n",
    "* Current Underlying Price : 24,010.60\n",
    "* Implied Volatility       : 11.64\n",
    "* Option Expiry            : 25-July-2024\n",
    "* Risk Free Rate           : 7.3%"
   ]
  },
  {
   "cell_type": "code",
   "execution_count": 712,
   "metadata": {},
   "outputs": [],
   "source": [
    "numberOfSimulations = 10000\n",
    "\n",
    "callPayOff = []\n",
    "\n",
    "# Get stock values Time to maturity taken as 1-Month \n",
    "(stockPrice, strikePrice, impliedVolatility, timeToMaturity, riskFreeRate) = get_Values(stockPrice=24010.60, strikePrice=24000, impliedVolatility=0.1164, timeToMaturity=(21/252), riskFreeRate=0.073)\n",
    "\n",
    "discountFactor = exp(-riskFreeRate + timeToMaturity)\n",
    "\n",
    "for i in range(numberOfSimulations + 1):\n",
    "    stockPrice_at_T = generate_asset_price(stockPrice, impliedVolatility, timeToMaturity, riskFreeRate)\n",
    "    callPayOff.append(call_Payoff(stockPrice_at_T, strikePrice))"
   ]
  },
  {
   "cell_type": "code",
   "execution_count": 713,
   "metadata": {},
   "outputs": [
    {
     "name": "stdout",
     "output_type": "stream",
     "text": [
      "Calculated Nifty Call Option Price : 414.19667648400747\n"
     ]
    }
   ],
   "source": [
    "callOptionPrice = discountFactor * (sum(callPayOff) / numberOfSimulations)\n",
    "\n",
    "print(\"Calculated Nifty Call Option Price : \" + str(callOptionPrice))"
   ]
  },
  {
   "cell_type": "markdown",
   "metadata": {},
   "source": [
    "### Q. Compare it with the current market price and tell your decision, if it shall be bought or sold. :\n",
    "- Current Nifty call option Price as of 28-June-2024 is :  404.95\n",
    "- Calculated Nifty Call Option Price : 414.19667648400747\n",
    "- The calculated call option price is greater than current option  price ,Therefore the option is Undervalued.\n",
    "- My Decision is to take a Long Position on the Call Option. By going Long on the Call Option we can book a profit.\n"
   ]
  }
 ],
 "metadata": {
  "kernelspec": {
   "display_name": "base",
   "language": "python",
   "name": "python3"
  },
  "language_info": {
   "codemirror_mode": {
    "name": "ipython",
    "version": 3
   },
   "file_extension": ".py",
   "mimetype": "text/x-python",
   "name": "python",
   "nbconvert_exporter": "python",
   "pygments_lexer": "ipython3",
   "version": "3.11.4"
  }
 },
 "nbformat": 4,
 "nbformat_minor": 2
}
